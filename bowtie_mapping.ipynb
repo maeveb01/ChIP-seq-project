{
 "cells": [
  {
   "cell_type": "markdown",
   "metadata": {},
   "source": [
    "Notebook with system commands to process FastQ files: mapping with Bowtie2, sorting and indexing with samtools, conversion to BigWigs with bamCoverage"
   ]
  },
  {
   "cell_type": "code",
   "execution_count": 1,
   "metadata": {},
   "outputs": [
    {
     "name": "stdout",
     "output_type": "stream",
     "text": [
      "-rw-r--r-- 1 boycem4 GEU3302521 53M Nov 23  2020 chip_R1.fastq.gz\n",
      "-rw-r--r-- 1 boycem4 GEU3302521 46M Nov 19 11:16 chip_R1_val_1.fq.gz\n",
      "-rw-r--r-- 1 boycem4 GEU3302521 53M Nov 23  2020 chip_R2.fastq.gz\n",
      "-rw-r--r-- 1 boycem4 GEU3302521 46M Nov 19 11:16 chip_R2_val_2.fq.gz\n"
     ]
    }
   ],
   "source": [
    "# list all files ending in q.gz\n",
    "!ls -lh *q.gz"
   ]
  },
  {
   "cell_type": "code",
   "execution_count": 2,
   "metadata": {},
   "outputs": [],
   "source": [
    "# settings for subsequent commands\n",
    "\n",
    "# select the sample to be processed:\n",
    "sample = 'chip'\n",
    "\n",
    "# prefix for output files can be the same as sample name\n",
    "out_prefix = sample\n",
    "\n",
    "# reference genome\n",
    "reference = 'C_glabrata.fa'\n",
    "\n",
    "# name for bowtie2 index files\n",
    "bowtie_index = 'C_glabrata'\n",
    "\n",
    "# number of threads to use in parallel\n",
    "threads = 1\n",
    "\n",
    "# execute stepwise or as a pipeline\n",
    "#processing = 'stepwise'\n",
    "processing = 'pipeline'"
   ]
  },
  {
   "cell_type": "code",
   "execution_count": 3,
   "metadata": {},
   "outputs": [],
   "source": [
    "import os.path\n",
    "\n",
    "# make sure the mapping index files are in place\n",
    "for i in range(1,5) :\n",
    "    bowtie_index_file = f'{bowtie_index}.{i}.bt2'\n",
    "\n",
    "    if not os.path.isfile(bowtie_index_file) :\n",
    "        \n",
    "        print(f'file {bowtie_index_file} does not exist')\n",
    "        \n",
    "        # try to generate the index\n",
    "        job = f'bowtie2-build {reference} {bowtie_index}'\n",
    "        print(f'job: {job}')\n",
    "        !time {job}\n",
    "        \n",
    "        break"
   ]
  },
  {
   "cell_type": "code",
   "execution_count": 4,
   "metadata": {},
   "outputs": [],
   "source": [
    "# Define the input file(s)\n",
    "# (for paired-end reads we have two input files):\n",
    "infile1 = f'{sample}_R1.fastq.gz'\n",
    "infile2 = f'{sample}_R2.fastq.gz'\n",
    "\n",
    "# one could also use trimmed files if available:\n",
    "#infile1 = f'{sample}_R1_val_1.fq.gz'\n",
    "#infile2 = f'{sample}_R2_val_2.fq.gz'\n",
    "\n",
    "# make sure input files are in place\n",
    "for file in (infile1, infile2) :\n",
    "    if not os.path.isfile(file) :\n",
    "        raise Exception(f'file {file} does not exist')"
   ]
  },
  {
   "cell_type": "code",
   "execution_count": 5,
   "metadata": {},
   "outputs": [
    {
     "name": "stdout",
     "output_type": "stream",
     "text": [
      "job: bowtie2 -x C_glabrata -1 chip_R1.fastq.gz -2 chip_R2.fastq.gz --mm -p 1 | samtools view -b | samtools sort -@ 1 > chip.bam\n",
      "1062114 reads; of these:\n",
      "  1062114 (100.00%) were paired; of these:\n",
      "    321209 (30.24%) aligned concordantly 0 times\n",
      "    666617 (62.76%) aligned concordantly exactly 1 time\n",
      "    74288 (6.99%) aligned concordantly >1 times\n",
      "    ----\n",
      "    321209 pairs aligned concordantly 0 times; of these:\n",
      "      68375 (21.29%) aligned discordantly 1 time\n",
      "    ----\n",
      "    252834 pairs aligned 0 times concordantly or discordantly; of these:\n",
      "      505668 mates make up the pairs; of these:\n",
      "        466911 (92.34%) aligned 0 times\n",
      "        25174 (4.98%) aligned exactly 1 time\n",
      "        13583 (2.69%) aligned >1 times\n",
      "78.02% overall alignment rate\n",
      "\n",
      "real\t1m59.210s\n",
      "user\t2m46.422s\n",
      "sys\t0m2.590s\n"
     ]
    }
   ],
   "source": [
    "if processing == 'stepwise' :\n",
    "    \n",
    "    # run bowtie2 mapper and save output in SAM format\n",
    "    job = f'bowtie2 -x {bowtie_index} -1 {infile1} -2 {infile2} --mm -p {threads} > {out_prefix}.sam'\n",
    "    print(f'job: {job}')\n",
    "    !time {job}\n",
    "    \n",
    "    # convert SAM into BAM format, so that it can be sorted\n",
    "    job = f'samtools view -b {out_prefix}.sam > {out_prefix}.bam'\n",
    "    print(f'job: {job}')\n",
    "    !time {job}\n",
    "    \n",
    "    # sort BAM file (requires BAM file as input)\n",
    "    job = f'samtools sort -@ {threads} {out_prefix}.bam > {out_prefix}.sorted.bam'\n",
    "    print(f'job: {job}')\n",
    "    !time {job}\n",
    "    \n",
    "    # replace unsorted BAM file with sorted one\n",
    "    job = f'mv {out_prefix}.sorted.bam {out_prefix}.bam'\n",
    "    print(f'job: {job}')\n",
    "    !time {job}\n",
    "    \n",
    "else :\n",
    "    \n",
    "    # run bowtie2 mapper and save compressed and sorted output in {out_prefix}.bam in one go\n",
    "    job = f'bowtie2 -x {bowtie_index} -1 {infile1} -2 {infile2} --mm -p {threads} | samtools view -b | samtools sort -@ {threads} > {out_prefix}.bam'\n",
    "    print(f'job: {job}')\n",
    "    !time {job}"
   ]
  },
  {
   "cell_type": "code",
   "execution_count": 6,
   "metadata": {},
   "outputs": [
    {
     "name": "stdout",
     "output_type": "stream",
     "text": [
      "ls: cannot access '*.sam': No such file or directory\n",
      "-rw-r--r-- 1 boycem4 GEU3302521 87M Nov 19 12:19  chip.bam\n"
     ]
    }
   ],
   "source": [
    "# list all the SAM and BAM files in the directory\n",
    "!ls -lh *.bam *.sam"
   ]
  },
  {
   "cell_type": "code",
   "execution_count": 7,
   "metadata": {},
   "outputs": [
    {
     "name": "stdout",
     "output_type": "stream",
     "text": [
      "job: samtools index chip.bam\n",
      "\n",
      "real\t0m1.289s\n",
      "user\t0m1.251s\n",
      "sys\t0m0.036s\n"
     ]
    }
   ],
   "source": [
    "# create an index for the BAM file to allow direct access at certain positions\n",
    "job = f'samtools index {out_prefix}.bam'\n",
    "print(f'job: {job}')\n",
    "!time {job}"
   ]
  },
  {
   "cell_type": "code",
   "execution_count": 8,
   "metadata": {},
   "outputs": [
    {
     "name": "stdout",
     "output_type": "stream",
     "text": [
      "job: samtools view -b chip.bam chrA > chipA.bam\n",
      "\n",
      "real\t0m0.528s\n",
      "user\t0m0.498s\n",
      "sys\t0m0.016s\n",
      "job: samtools index chipA.bam\n",
      "\n",
      "real\t0m0.081s\n",
      "user\t0m0.079s\n",
      "sys\t0m0.000s\n"
     ]
    }
   ],
   "source": [
    "# create a BAM file from reads mapped to chrA only\n",
    "job = f'samtools view -b {out_prefix}.bam chrA > {out_prefix}A.bam'\n",
    "print(f'job: {job}')\n",
    "!time {job}\n",
    "\n",
    "# index this BAM file\n",
    "job = f'samtools index {out_prefix}A.bam'\n",
    "print(f'job: {job}')\n",
    "!time {job}"
   ]
  },
  {
   "cell_type": "code",
   "execution_count": 9,
   "metadata": {},
   "outputs": [
    {
     "name": "stdout",
     "output_type": "stream",
     "text": [
      "job: /usr/local/deeptools3/bin/bamCoverage -p 1 -b chip.bam -o chip.bw\n",
      "bamFilesList: ['chip.bam']\n",
      "binLength: 50\n",
      "numberOfSamples: None\n",
      "blackListFileName: None\n",
      "skipZeroOverZero: False\n",
      "bed_and_bin: False\n",
      "genomeChunkSize: None\n",
      "defaultFragmentLength: read length\n",
      "numberOfProcessors: 1\n",
      "verbose: False\n",
      "region: None\n",
      "bedFile: None\n",
      "minMappingQuality: None\n",
      "ignoreDuplicates: False\n",
      "chrsToSkip: []\n",
      "stepSize: 50\n",
      "center_read: False\n",
      "samFlag_include: None\n",
      "samFlag_exclude: None\n",
      "minFragmentLength: 0\n",
      "maxFragmentLength: 0\n",
      "zerosToNans: False\n",
      "smoothLength: None\n",
      "save_data: False\n",
      "out_file_for_raw_data: None\n",
      "maxPairedFragmentLength: 1000\n",
      "\n",
      "real\t0m12.448s\n",
      "user\t0m12.114s\n",
      "sys\t0m0.068s\n"
     ]
    }
   ],
   "source": [
    "# generate BigWig files from BAM files\n",
    "job = f'/usr/local/deeptools3/bin/bamCoverage -p {threads} -b {out_prefix}.bam -o {out_prefix}.bw'\n",
    "print(f'job: {job}')\n",
    "!time {job}"
   ]
  },
  {
   "cell_type": "code",
   "execution_count": 10,
   "metadata": {},
   "outputs": [
    {
     "name": "stdout",
     "output_type": "stream",
     "text": [
      "-rw-r--r-- 1 boycem4 GEU3302521 931K Nov 19 12:19 chip.bw\n"
     ]
    }
   ],
   "source": [
    "# list all BigWig files:\n",
    "!ls -lh *.bw"
   ]
  }
 ],
 "metadata": {
  "kernelspec": {
   "display_name": "Python 3",
   "language": "python",
   "name": "python3"
  },
  "language_info": {
   "codemirror_mode": {
    "name": "ipython",
    "version": 3
   },
   "file_extension": ".py",
   "mimetype": "text/x-python",
   "name": "python",
   "nbconvert_exporter": "python",
   "pygments_lexer": "ipython3",
   "version": "3.6.9"
  }
 },
 "nbformat": 4,
 "nbformat_minor": 4
}
