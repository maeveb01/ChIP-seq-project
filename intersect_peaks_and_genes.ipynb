{
 "cells": [
  {
   "cell_type": "markdown",
   "metadata": {},
   "source": [
    "Read data from GEM results file and annotation file and report genes that are overlapped by peaks. Include peak score and gene annotation in output."
   ]
  },
  {
   "cell_type": "code",
   "execution_count": 1,
   "metadata": {},
   "outputs": [
    {
     "name": "stdout",
     "output_type": "stream",
     "text": [
      "Position\tIP\tControl\tFold\tExpectd\tQ_-lg10\tP_-lg10\tP_poiss\tIPvsEMP\tNoise\tKmerGroup\tMotifId\tKG_score\tStrand\n",
      "G:25513\t12007.7\t  107.1\t  112.1\t  201.4\t 999.00\t 999.00\t 999.00\t  -0.70\t   0.05\tTTCCACGGAA_7/0\t0\t1.85\t+\n",
      "K:155473\t 4922.2\t  163.7\t   30.1\t  350.7\t 999.00\t 999.00\t 999.00\t  -0.65\t   0.24\t--------\t-1\t0.00\t*\n",
      "I:968521\t 4821.0\t   21.5\t  223.8\t   66.7\t 999.00\t 999.00\t 999.00\t  -0.68\t   0.00\t--------\t-1\t0.00\t*\n",
      "K:155633\t 3817.8\t  378.1\t   10.1\t  352.4\t 999.00\t 999.00\t 999.00\t  -0.67\t   0.24\t--------\t-1\t0.00\t*\n",
      "G:25392\t 3738.3\t  139.9\t   26.7\t  195.9\t 999.00\t 999.00\t 999.00\t  -0.31\t   0.05\t--------\t-1\t0.00\t*\n",
      "A:162953\t 3372.5\t   29.2\t  115.7\t  106.6\t 999.00\t 999.00\t 999.00\t  -0.73\t   0.00\t--------\t-1\t0.00\t*\n",
      "D:562677\t 3138.8\t  312.9\t   10.0\t  285.8\t 999.00\t 999.00\t 999.00\t  -0.52\t   0.37\tATTCCACGGAA_9/0\t0\t2.11\t+\n",
      "L:1094955\t 3001.2\t   46.5\t   64.5\t  132.0\t 999.00\t 999.00\t 999.00\t  -0.51\t   0.00\tTTCCACGGATC_3/0\t0\t1.35\t+\n",
      "F:260851\t 2698.9\t   65.1\t   41.5\t  227.5\t 999.00\t 999.00\t 999.00\t  -0.50\t   0.21\tATTCCACGGAAAC_11/0\t0\t2.40\t+\n"
     ]
    }
   ],
   "source": [
    "peak_file = 'out6/out6.GEM_events.txt'\n",
    "!head {peak_file}"
   ]
  },
  {
   "cell_type": "code",
   "execution_count": 2,
   "metadata": {},
   "outputs": [],
   "source": [
    "# Part 1:\n",
    "# fill a dictionary with peak positions as keys and peak scores as values\n",
    "\n",
    "# Steps:\n",
    "\n",
    "# open filehandle for reading\n",
    "f=open(peak_file, 'r')\n",
    "\n",
    "# initialise dictionary\n",
    "peaks = dict()\n",
    "\n",
    "#extract the header \n",
    "header = f.readline()\n",
    "\n",
    "# cycle through input lines\n",
    "for line in f:\n",
    "    # split line at tab (\\t)\n",
    "    fields = line.split('\\t')\n",
    "    \n",
    "    # extract elements representing position and score\n",
    "    chrom = fields[0]\n",
    "    score = fields[5]\n",
    "    \n",
    "    # prepend 'chr' to chromosome name\n",
    "    chrom = 'chr' + chrom\n",
    "    \n",
    "    # insert position and score into dictionary\n",
    "    peaks[chrom] = score\n",
    "\n",
    "#close filehandle \n",
    "f.close()"
   ]
  },
  {
   "cell_type": "code",
   "execution_count": 3,
   "metadata": {},
   "outputs": [
    {
     "data": {
      "text/plain": [
       "{'chrG:25513': ' 999.00',\n",
       " 'chrK:155473': ' 999.00',\n",
       " 'chrI:968521': ' 999.00',\n",
       " 'chrK:155633': ' 999.00',\n",
       " 'chrG:25392': ' 999.00',\n",
       " 'chrA:162953': ' 999.00',\n",
       " 'chrD:562677': ' 999.00',\n",
       " 'chrL:1094955': ' 999.00',\n",
       " 'chrF:260851': ' 999.00',\n",
       " 'chrM:202410': ' 999.00',\n",
       " 'chrI:968589': ' 999.00',\n",
       " 'chrM:202966': ' 999.00',\n",
       " 'chrJ:719129': ' 999.00',\n",
       " 'chrM:852415': ' 999.00',\n",
       " 'chrM:202790': ' 999.00',\n",
       " 'chrG:145393': ' 999.00',\n",
       " 'chrK:311025': ' 999.00',\n",
       " 'chrM:202658': ' 999.00',\n",
       " 'chrA:162860': ' 289.28',\n",
       " 'chrL:1094737': ' 289.17',\n",
       " 'chrM:203240': ' 250.98',\n",
       " 'chrI:700709': ' 246.07',\n",
       " 'chrF:260798': ' 246.01',\n",
       " 'chrK:529767': ' 244.73',\n",
       " 'chrE:376953': ' 230.82',\n",
       " 'chrG:145476': ' 225.53',\n",
       " 'chrI:968394': ' 202.62',\n",
       " 'chrC:328445': ' 200.76',\n",
       " 'chrF:260983': ' 187.55',\n",
       " 'chrK:79829': ' 184.21',\n",
       " 'chrM:852513': ' 183.53',\n",
       " 'chrA:163065': ' 171.67',\n",
       " 'chrK:572626': ' 163.66',\n",
       " 'chrE:377037': ' 159.42',\n",
       " 'chrI:968741': ' 101.37',\n",
       " 'chrM:1164101': '  96.23',\n",
       " 'chrJ:719252': '  88.94',\n",
       " 'chrM:202230': '  88.64',\n",
       " 'chrM:1163962': '  88.07',\n",
       " 'chrG:106786': '  78.47',\n",
       " 'chrI:376451': '  65.49',\n",
       " 'chrK:311187': '  61.03',\n",
       " 'chrM:1277330': '  58.94',\n",
       " 'chrM:1298590': '  54.49',\n",
       " 'chrM:852670': '  53.80',\n",
       " 'chrG:6853': '  41.37',\n",
       " 'chrK:583106': '  40.76',\n",
       " 'chrC:328302': '  32.18',\n",
       " 'chrC:289558': '  31.76',\n",
       " 'chrK:530498': '  31.38',\n",
       " 'chrL:670420': '  27.65',\n",
       " 'chrC:328548': '  27.12',\n",
       " 'chrC:289823': '  22.55',\n",
       " 'chrI:443874': '  20.92',\n",
       " 'chrG:499815': '  20.67',\n",
       " 'chrJ:394775': '  20.00',\n",
       " 'chrI:374676': '  16.69',\n",
       " 'chrI:9396': '  15.31',\n",
       " 'chrG:499977': '   6.17',\n",
       " 'chrG:7138': '   4.00',\n",
       " 'chrM:206953': '   3.22',\n",
       " 'chrF:502731': '   3.08',\n",
       " 'chrD:562839': '   2.70'}"
      ]
     },
     "execution_count": 3,
     "metadata": {},
     "output_type": "execute_result"
    }
   ],
   "source": [
    "peaks"
   ]
  },
  {
   "cell_type": "code",
   "execution_count": 4,
   "metadata": {},
   "outputs": [],
   "source": [
    "# Part 2:\n",
    "# read in annotation and print information for genes that overlap with peaks\n",
    "\n",
    "# specify a value for the size of the promoter region\n",
    "promoter = 1000\n",
    "\n",
    "# annotation file downloaded from CandidaDB:\n",
    "file = '/data/genomes/yeast/C.glabrata/C_glabrata_CBS138_version_s02-m02-r03_chromosomal_feature.tab'\n",
    "\n",
    "# output file for storing results\n",
    "outfile = 'genes_with_peaks3.csv'\n",
    "\n",
    "# open filehandles for reading and writing to new file\n",
    "fh = open(file, 'r')\n",
    "fout = open(outfile, 'w')\n",
    "\n",
    "# generate a header line for the output file\n",
    "header = '\\t'.join(['Feature', 'location', 'score', 'symbol', 'description'])\n",
    "fout.write(f'{header}\\n')\n",
    "\n",
    "for line in fh :\n",
    "    \n",
    "    # skip all header lines\n",
    "    if line.startswith('!') :\n",
    "        continue\n",
    "        \n",
    "    # split file into parts (number of columns might differ)\n",
    "    parts = line.strip().split('\\t')\n",
    "    \n",
    "    # assign elements to variables:\n",
    "    if len(parts) == 17 :\n",
    "        (feature, locus, alias, feature_type, chrom, start, stop, strand, primary, secondary, description, date, coord, blank1, blank2, reserve, standard) = parts\n",
    "    elif len(parts) == 18 :\n",
    "        (feature, locus, alias, feature_type, chrom, start, stop, strand, primary, secondary, description, date, coord, blank1, blank2, reserve, standard, ortho) = parts\n",
    "    else :\n",
    "        print(f'Unusual number of fields: {len(parts)} in {line.strip()}')\n",
    "        continue\n",
    "        \n",
    "    # simplify chromosome name\n",
    "    chrom_parts = chrom.split('_')\n",
    "    chrom = chrom_parts[0].replace('Chr', 'chr')\n",
    "    \n",
    "    # turn coordinate strings into integers\n",
    "    stop = int(stop)\n",
    "    start = int(start)\n",
    "    \n",
    "    # change C/W strands into -/+ notation\n",
    "    if strand == 'C' :\n",
    "        strand = '-'\n",
    "        \n",
    "        # reverse coordinates for genes on minus strand\n",
    "        (start, stop) = (stop, start)\n",
    "        \n",
    "        # extend by promoter region\n",
    "        stop += promoter\n",
    "        \n",
    "    else :\n",
    "        strand = '+'\n",
    "        \n",
    "        # extend by promoter region\n",
    "        start -= promoter\n",
    "\n",
    "    \n",
    "    # go through each position covered by the gene (from start to stop)\n",
    "    # and check if it is overlapping with a peak (stored as chrom:position in dictionary)\n",
    "    for position in range(start, stop+1) :\n",
    "        \n",
    "        # construct the location as used in the dictionary\n",
    "        location = f'{chrom}:{position}'\n",
    "            \n",
    "        # check if location is found in dictionary\n",
    "        if location in peaks.keys() :\n",
    "            \n",
    "            # print out relavant information from peak and annotation file\n",
    "            fout.write(f'{feature}\\t{chrom}:{start}-{stop}\\t{peaks[location]}\\t{locus}\\t{description}\\n')\n",
    "            \n",
    "            # move on to next gene\n",
    "            break\n",
    "        \n",
    "fh.close()\n",
    "fout.close()"
   ]
  },
  {
   "cell_type": "code",
   "execution_count": 5,
   "metadata": {},
   "outputs": [
    {
     "name": "stdout",
     "output_type": "stream",
     "text": [
      "Feature\tlocation\tscore\tsymbol\tdescription\n",
      "CAGL0G05329g\tchrG:499204-500491\t  20.38\t\tOrtholog(s) have role in positive regulation of transcription from RNA polymerase II promoter and SWI/SNF complex localization\n",
      "CAGL0C03289g\tchrC:327799-333745\t 116.03\tYBT1\tPutative ABC transporter involved in bile acid transport; gene is upregulated in azole-resistant strain\n",
      "CAGL0E03960g\tchrE:375571-377464\t 133.69\t\tOrtholog(s) have eukaryotic initiation factor 4G binding activity, role in negative regulation of translation in response to stress and cytoplasmic mRNA processing body, nucleolus localization\n",
      "CAGL0G05313g\tchrG:497360-499913\t  20.38\t\tOrtholog(s) have transferase activity, transferring phosphorus-containing groups activity\n",
      "CAGL0I07249g\tchrI:698635-700771\t 249.78\t\tPutative GTPase-activating protein involved in cell wall and cytoskeleton homeostasis; gene is upregulated in azole-resistant strain\n",
      "CAGL0C02937g\tchrC:289289-291692\t  30.08\t\tOrtholog(s) have microtubule plus-end binding activity, role in nuclear migration along microtubule and cytoplasmic microtubule, nucleus localization\n",
      "CAGL0M10219g\tchrM:1020895-1023088\t  27.29\t\tPutative ceramide synthase component; gene is upregulated in azole-resistant strain\n",
      "CAGL0M11682g\tchrM:1161812-1164341\t  97.79\t\tOrtholog(s) have nucleus localization\n",
      "CAGL0K05819g\tchrK:570750-573231\t 160.97\t\tOrtholog(s) have mitochondrion, nucleus localization\n"
     ]
    }
   ],
   "source": [
    "# print the first 10 lines of the results\n",
    "!head {outfile}"
   ]
  },
  {
   "cell_type": "code",
   "execution_count": 6,
   "metadata": {},
   "outputs": [
    {
     "name": "stdout",
     "output_type": "stream",
     "text": [
      "36 genes_with_peaks2.csv\n"
     ]
    }
   ],
   "source": [
    "# check how many entries we have in the output file\n",
    "!wc -l {outfile}"
   ]
  }
 ],
 "metadata": {
  "kernelspec": {
   "display_name": "Python 3",
   "language": "python",
   "name": "python3"
  },
  "language_info": {
   "codemirror_mode": {
    "name": "ipython",
    "version": 3
   },
   "file_extension": ".py",
   "mimetype": "text/x-python",
   "name": "python",
   "nbconvert_exporter": "python",
   "pygments_lexer": "ipython3",
   "version": "3.6.9"
  }
 },
 "nbformat": 4,
 "nbformat_minor": 4
}
