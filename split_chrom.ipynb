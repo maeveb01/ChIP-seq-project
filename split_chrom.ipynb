{
 "cells": [
  {
   "cell_type": "markdown",
   "metadata": {},
   "source": [
    "Prepare files for GEM:\n",
    "1. Split a file with multiple Fasta sequences into individual files for each chromosome\n",
    "\n",
    "2. Create a file that contains names of chromosomes and their lengths (tab-delimited)"
   ]
  },
  {
   "cell_type": "code",
   "execution_count": 1,
   "metadata": {},
   "outputs": [],
   "source": [
    "# input file - use tabulator key to save on typing\n",
    "file = 'C_glabrata.fa'"
   ]
  },
  {
   "cell_type": "code",
   "execution_count": 2,
   "metadata": {},
   "outputs": [],
   "source": [
    "# open filehandle for reading\n",
    "f = open(file, 'r')\n",
    "\n",
    "# initialise a dictionary that will hold IDs and sequences\n",
    "seqs = dict()\n",
    "\n",
    "# cycle through all input lines\n",
    "for line in f:\n",
    "    if line.startswith('>'):\n",
    "        # remove '>' from header\n",
    "        header = line.strip().replace('>', '')\n",
    "        \n",
    "        # initialise entry in dictionary for each Fasta header\n",
    "        seqs[header] = ''\n",
    "        \n",
    "        # add sequence to dictionary entry under header\n",
    "    else: \n",
    "        seqs[header] += line.strip()\n",
    "        \n",
    "f.close()\n"
   ]
  },
  {
   "cell_type": "code",
   "execution_count": 3,
   "metadata": {},
   "outputs": [
    {
     "name": "stdout",
     "output_type": "stream",
     "text": [
      "chrA\n",
      "chrB\n",
      "chrC\n",
      "chrD\n",
      "chrE\n",
      "chrF\n",
      "chrG\n",
      "chrH\n",
      "chrI\n",
      "chrJ\n",
      "chrK\n",
      "chrL\n",
      "chrM\n",
      "mito\n"
     ]
    }
   ],
   "source": [
    "# write each sequence into its own file\n",
    "# and create a summary of all chromosome lengths\n",
    "fsize = open('chrom_sizes.txt', 'w')\n",
    "\n",
    "# cycle through all sequence IDs\n",
    "for header in seqs.keys():\n",
    "    print(header)\n",
    "    # construct name of file\n",
    "    outfile = f'{header}.fa'\n",
    "\n",
    "    # create a filehandle for writing\n",
    "    fout = open(outfile, 'w')\n",
    "    \n",
    "    # write Fasta header and sequence\n",
    "    fout.write(f'>{header}\\n{seqs[header]}\\n')\n",
    "    \n",
    "    # close filehandle\n",
    "    fout.close()\n",
    "    \n",
    "    # add sequence ID and length to summary file\n",
    "    fsize.write(f'{header}\\t{len(seqs[header])}\\n')\n",
    "\n",
    "fsize.close()"
   ]
  }
 ],
 "metadata": {
  "kernelspec": {
   "display_name": "Python 3",
   "language": "python",
   "name": "python3"
  },
  "language_info": {
   "codemirror_mode": {
    "name": "ipython",
    "version": 3
   },
   "file_extension": ".py",
   "mimetype": "text/x-python",
   "name": "python",
   "nbconvert_exporter": "python",
   "pygments_lexer": "ipython3",
   "version": "3.6.9"
  }
 },
 "nbformat": 4,
 "nbformat_minor": 4
}
