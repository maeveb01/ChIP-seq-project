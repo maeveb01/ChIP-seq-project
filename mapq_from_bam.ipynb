{
 "cells": [
  {
   "cell_type": "markdown",
   "metadata": {},
   "source": [
    "This script opens a bam file and reads the MAPQ (mapping quality) values from it."
   ]
  },
  {
   "cell_type": "code",
   "execution_count": 1,
   "metadata": {},
   "outputs": [],
   "source": [
    "import pysam"
   ]
  },
  {
   "cell_type": "code",
   "execution_count": 2,
   "metadata": {},
   "outputs": [],
   "source": [
    "# specify the BAM file to read in\n",
    "bamfile = 'chip.bam'\n",
    "# generate the pysam object from the bamfile\n",
    "samfile = pysam.AlignmentFile(bamfile, \"rb\" )"
   ]
  },
  {
   "cell_type": "markdown",
   "metadata": {},
   "source": [
    "The code below extracts the first 10 values\n",
    "\n",
    "Expand it so that it scans the whole genome and reports MAPQs and their occurrences in sorted order."
   ]
  },
  {
   "cell_type": "code",
   "execution_count": 3,
   "metadata": {},
   "outputs": [
    {
     "name": "stdout",
     "output_type": "stream",
     "text": [
      "0 327823\n",
      "1 114991\n",
      "2 1270\n",
      "3 389\n",
      "4 64\n",
      "5 38\n",
      "6 11085\n",
      "7 1452\n",
      "8 326\n",
      "11 875\n",
      "12 1498\n",
      "14 148\n",
      "15 520\n",
      "16 142\n",
      "17 1327\n",
      "18 829\n",
      "21 583\n",
      "22 194\n",
      "23 1281\n",
      "24 1642\n",
      "25 288\n",
      "26 100\n",
      "27 26\n",
      "30 6986\n",
      "31 5600\n",
      "32 4292\n",
      "33 2\n",
      "34 3664\n",
      "35 1845\n",
      "36 828\n",
      "37 718\n",
      "38 411\n",
      "39 237\n",
      "40 6195\n",
      "42 1462327\n"
     ]
    }
   ],
   "source": [
    "# initialise dictionary to hold flag values\n",
    "mapqs = dict()\n",
    "\n",
    "# initialise a counter variable\n",
    "counter = 0\n",
    "\n",
    "# cycle through entries in BAM file\n",
    "for line in samfile:\n",
    "    \n",
    "    # only look at first 10 lines for testing\n",
    "#    counter += 1\n",
    "    if counter > 10 :\n",
    "        break\n",
    "        \n",
    "    # extract mapping_quality field \n",
    "    mapq = line.mapping_quality\n",
    "    \n",
    "    # add mapq to dictionary or increment its value\n",
    "    if mapq in mapqs.keys() :\n",
    "        mapqs[mapq] += 1\n",
    "    else :\n",
    "        mapqs[mapq] = 1\n",
    "        \n",
    "# print MAPQs ordered by value:\n",
    "for mapq in sorted(mapqs.keys()) :\n",
    "    print(mapq, mapqs[mapq])"
   ]
  },
  {
   "cell_type": "code",
   "execution_count": null,
   "metadata": {},
   "outputs": [],
   "source": []
  }
 ],
 "metadata": {
  "kernelspec": {
   "display_name": "Python 3",
   "language": "python",
   "name": "python3"
  },
  "language_info": {
   "codemirror_mode": {
    "name": "ipython",
    "version": 3
   },
   "file_extension": ".py",
   "mimetype": "text/x-python",
   "name": "python",
   "nbconvert_exporter": "python",
   "pygments_lexer": "ipython3",
   "version": "3.6.9"
  }
 },
 "nbformat": 4,
 "nbformat_minor": 4
}
