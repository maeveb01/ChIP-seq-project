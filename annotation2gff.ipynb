{
 "cells": [
  {
   "cell_type": "markdown",
   "metadata": {},
   "source": [
    "Columns within chromosomal_features.tab:\n",
    "\n",
    "1.  Feature name (mandatory); this is the primary systematic name, if available\n",
    "2.  Gene name (locus name)\n",
    "3.  Aliases (multiples separated by |)\n",
    "4.  Feature type\n",
    "5.  Chromosome\n",
    "6.  Start Coordinate\n",
    "7.  Stop Coordinate\n",
    "8.  Strand \n",
    "9.  Primary CGDID\n",
    "10. Secondary CGDID (if any)\n",
    "11. Description\n",
    "12. Date Created\n",
    "13. Sequence Coordinate Version Date (if any)\n",
    "14. Blank\n",
    "15. Blank\n",
    "16. Date of gene name reservation (if any).\n",
    "17. Has the reserved gene name become the standard name? (Y/N)\n",
    "18. Name of S. cerevisiae ortholog(s) (multiples separated by |)\n"
   ]
  },
  {
   "cell_type": "code",
   "execution_count": 1,
   "metadata": {},
   "outputs": [
    {
     "name": "stdout",
     "output_type": "stream",
     "text": [
      "! File name: C_glabrata_CBS138_version_s02-m02-r03_chromosomal_feature.tab\n",
      "! Organism: Candida glabrata CBS138\n",
      "! Genome version: s02-m02-r03\n",
      "! Date created: Sun Jan 20 07:11:54 2013\n",
      "! Created by: The Candida Genome Database (http://www.candidagenome.org/)\n",
      "! Contact Email: candida-curator AT lists DOT stanford DOT edu\n",
      "! Funding: NIDCR at US NIH, grant number 1-R01-DE015873-01\n",
      "!\n",
      "CAGL0E06138g\t\tCAGL-IPF6010|CAGL-CDS0046.1|CAG58875.1\tORF|Uncharacterized\tChrE_C_glabrata_CBS138\t617486\t611835\tC\tCAL0129056\t\tOrtholog(s) have 3-oxoacyl-[acyl-carrier-protein] reductase (NADPH) activity, 3-oxoacyl-[acyl-carrier-protein] synthase activity, fatty acid synthase activity, holo-[acyl-carrier-protein] synthase activity\t2010-10-20\t2010-10-20\t\t\t\tN\tFAS2\n",
      "CAGL0E03223g\t\tCAGL-IPF2421|CAGL-CDS4017.1|CAG58748.1\tORF|Uncharacterized\tChrE_C_glabrata_CBS138\t298783\t298037\tC\tCAL0129058\t\tOrtholog(s) have role in U4 snRNA 3'-end processing, exonucleolytic trimming to generate mature 3'-end of 5.8S rRNA from tricistronic rRNA transcript (SSU-rRNA, 5.8S rRNA and LSU-rRNA), more\t2010-10-20\t2010-10-20\t\t\t\tN\tMTR3\n"
     ]
    }
   ],
   "source": [
    "# annotation file downloaded from CandidaDB:\n",
    "file = '/data/genomes/yeast/C.glabrata/C_glabrata_CBS138_version_s02-m02-r03_chromosomal_feature.tab'\n",
    "!head {file}"
   ]
  },
  {
   "cell_type": "code",
   "execution_count": 2,
   "metadata": {},
   "outputs": [
    {
     "name": "stdout",
     "output_type": "stream",
     "text": [
      "CAGL0A01650g\t\tCAGL-IPF3019|CAG57730.1\tORF|Uncharacterized\tChrA_C_glabrata_CBS138\t163770\t164126\tW\tCAL0126725\t\tPutative protein; gene is upregulated in azole-resistant strain\t2010-10-20\t2010-10-20\t\t\t\tN\t\n"
     ]
    }
   ],
   "source": [
    "# find entry for regulated gene in that file\n",
    "!grep CAGL0A01650g {file}"
   ]
  },
  {
   "cell_type": "code",
   "execution_count": 3,
   "metadata": {},
   "outputs": [],
   "source": [
    "# open filehandles for reading and writing to new file\n",
    "fh = open(file, 'r')\n",
    "fout = open('C_glabrata.gff3', 'w')\n",
    "\n",
    "for line in fh :\n",
    "    \n",
    "    # skip all header lines\n",
    "    if line.startswith('!') :\n",
    "        continue\n",
    "        \n",
    "    # split file into parts (number of columns might differ)\n",
    "    parts = line.strip().split('\\t')\n",
    "    \n",
    "    # assign elements to variables:\n",
    "    if len(parts) == 16 :\n",
    "        (feature, alias, feature_type, chrom, start, stop, strand, primary, secondary, description, date, coord, blank1, blank2, reserve, standard) = parts\n",
    "    if len(parts) == 17 :\n",
    "        (feature, locus, alias, feature_type, chrom, start, stop, strand, primary, secondary, description, date, coord, blank1, blank2, reserve, standard) = parts\n",
    "    elif len(parts) == 18 :\n",
    "        (feature, locus, alias, feature_type, chrom, start, stop, strand, primary, secondary, description, date, coord, blank1, blank2, reserve, standard, ortho) = parts\n",
    "    else :\n",
    "        print(f'Unusual number of fields: {len(parts)} in {line.strip()}')\n",
    "        continue\n",
    "        \n",
    "    # simplify chromosome name\n",
    "    chrom_parts = chrom.split('_')\n",
    "    chrom = chrom_parts[0].replace('Chr', 'chr')\n",
    "    \n",
    "    # change C/W strands into -/+ notation\n",
    "    if strand == 'C' :\n",
    "        strand = '-'\n",
    "        # reverse coordinates for genes on minus strand\n",
    "        (start, stop) = (stop, start)\n",
    "    else :\n",
    "        strand = '+'\n",
    "\n",
    "    # Exercise:\n",
    "    # add description as Note and replace special characters with %-notation\n",
    "    description = description.replace('%','%25')\n",
    "    description = description.replace(';','%3B')\n",
    "    description = description.replace('=','%3D')\n",
    "    description = description.replace(',','%2C')\n",
    "\n",
    "\n",
    "    out = '\\t'.join([chrom, 'CandidaDB', feature_type, start, stop, '.', strand, '.', f'ID={feature};Name={locus};Note={description};ortholog={ortho}'])\n",
    "    fout.write(out+'\\n')\n",
    "    \n",
    "fh.close()\n",
    "fout.close()"
   ]
  },
  {
   "cell_type": "code",
   "execution_count": 4,
   "metadata": {},
   "outputs": [
    {
     "name": "stdout",
     "output_type": "stream",
     "text": [
      "-rw-r--r-- 1 boycem4 GEU3302521 1.2M Jan  6 18:11 C_glabrata.gff3\n"
     ]
    }
   ],
   "source": [
    "!ls -lh *.gff3\n"
   ]
  },
  {
   "cell_type": "code",
   "execution_count": 5,
   "metadata": {},
   "outputs": [
    {
     "name": "stdout",
     "output_type": "stream",
     "text": [
      "wc: '*.gff': No such file or directory\n"
     ]
    }
   ],
   "source": [
    "!wc *.gff"
   ]
  },
  {
   "cell_type": "code",
   "execution_count": 6,
   "metadata": {},
   "outputs": [
    {
     "name": "stdout",
     "output_type": "stream",
     "text": [
      "   5502  142705 1501089 /data/genomes/yeast/C.glabrata/C_glabrata_CBS138_version_s02-m02-r03_chromosomal_feature.tab\n"
     ]
    }
   ],
   "source": [
    "!wc /data/genomes/yeast/C.glabrata/C_glabrata_CBS138_version_s02-m02-r03_chromosomal_feature.tab"
   ]
  },
  {
   "cell_type": "code",
   "execution_count": 7,
   "metadata": {},
   "outputs": [],
   "source": [
    "##creates file called c_glbrata.gff3"
   ]
  }
 ],
 "metadata": {
  "kernelspec": {
   "display_name": "Python 3",
   "language": "python",
   "name": "python3"
  },
  "language_info": {
   "codemirror_mode": {
    "name": "ipython",
    "version": 3
   },
   "file_extension": ".py",
   "mimetype": "text/x-python",
   "name": "python",
   "nbconvert_exporter": "python",
   "pygments_lexer": "ipython3",
   "version": "3.6.9"
  }
 },
 "nbformat": 4,
 "nbformat_minor": 4
}
