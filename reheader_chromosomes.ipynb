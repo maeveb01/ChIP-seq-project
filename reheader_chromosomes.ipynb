{
 "cells": [
  {
   "cell_type": "markdown",
   "metadata": {},
   "source": [
    "Simplify the sequence headers of a file with chromosome sequences"
   ]
  },
  {
   "cell_type": "code",
   "execution_count": 1,
   "metadata": {},
   "outputs": [],
   "source": [
    "# load module that provides reading from compressed text files\n",
    "import gzip"
   ]
  },
  {
   "cell_type": "code",
   "execution_count": 2,
   "metadata": {},
   "outputs": [],
   "source": [
    "# input file - use tabulator key to save on typing\n",
    "file = '/data/genomes/yeast/C.glabrata/C_glabrata_CBS138_current_chromosomes.fasta.gz'\n",
    "\n",
    "# name of output file\n",
    "outfile = 'C_glabrata.fa'"
   ]
  },
  {
   "cell_type": "code",
   "execution_count": 9,
   "metadata": {},
   "outputs": [],
   "source": [
    "# open file handle to gzip-compressed file ('rt' is for read in text mode)\n",
    "f = gzip.open(file, 'rt')\n",
    "\n",
    "# and one to write new version to:\n",
    "fout = open(outfile, 'w')\n",
    "\n",
    "# Step 1: cycle through all lines and print out those that start with '>':\n",
    "for line in f:\n",
    "    if line.startswith('>'):\n",
    "        \n",
    "\n",
    "    # Step 2: Try to shorten the headers and replace capital c with small letter c\n",
    "        parts = line.split('_')\n",
    "        header = parts[0].replace('>Chr', '>chr')\n",
    "        # Step 3: write shortened headers and sequence data into outfile\n",
    "        fout.write(f'{header}\\n')\n",
    "    else: \n",
    "        fout.write(line)\n",
    "        \n",
    "# close filehandles    \n",
    "fout.close()\n",
    "f.close()\n"
   ]
  }
 ],
 "metadata": {
  "kernelspec": {
   "display_name": "Python 3",
   "language": "python",
   "name": "python3"
  },
  "language_info": {
   "codemirror_mode": {
    "name": "ipython",
    "version": 3
   },
   "file_extension": ".py",
   "mimetype": "text/x-python",
   "name": "python",
   "nbconvert_exporter": "python",
   "pygments_lexer": "ipython3",
   "version": "3.6.9"
  }
 },
 "nbformat": 4,
 "nbformat_minor": 4
}
