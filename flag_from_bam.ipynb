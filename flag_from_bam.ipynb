{
 "cells": [
  {
   "cell_type": "markdown",
   "metadata": {},
   "source": [
    "This script opens a bam file and reads flag information from it."
   ]
  },
  {
   "cell_type": "code",
   "execution_count": 1,
   "metadata": {},
   "outputs": [],
   "source": [
    "import pysam"
   ]
  },
  {
   "cell_type": "code",
   "execution_count": 2,
   "metadata": {},
   "outputs": [],
   "source": [
    "# specify the BAM file to read in\n",
    "bamfile = 'chip.bam'\n",
    "# generate the pysam object from the bamfile\n",
    "samfile = pysam.AlignmentFile(bamfile, \"rb\" )"
   ]
  },
  {
   "cell_type": "markdown",
   "metadata": {},
   "source": [
    "The code below extracts the first 10 flags\n",
    "\n",
    "Expand it so that it scans the whole genome and reports flags and their occurrences in sorted order."
   ]
  },
  {
   "cell_type": "code",
   "execution_count": 3,
   "metadata": {},
   "outputs": [
    {
     "name": "stdout",
     "output_type": "stream",
     "text": [
      "65 9616\n",
      "69 2443\n",
      "73 2791\n",
      "77 157184\n",
      "81 28939\n",
      "83 367705\n",
      "89 2932\n",
      "97 29032\n",
      "99 367274\n",
      "101 2508\n",
      "113 9574\n",
      "129 9616\n",
      "133 2791\n",
      "137 2443\n",
      "141 157184\n",
      "145 29032\n",
      "147 367274\n",
      "153 2508\n",
      "161 28939\n",
      "163 367705\n",
      "165 2932\n",
      "177 9574\n"
     ]
    }
   ],
   "source": [
    "# initialise dictionary to hold flag values\n",
    "flags = dict()\n",
    "\n",
    "# initialise a counter variable\n",
    "counter = 0\n",
    "\n",
    "# cycle through entries in BAM file\n",
    "for line in samfile:\n",
    "    \n",
    "    # only look at first 10 lines for testing\n",
    "#    counter += 1\n",
    "    if counter > 10 :\n",
    "        break\n",
    "        \n",
    "    # extract flag attribute \n",
    "    flag = line.flag\n",
    "    \n",
    "    # check if flag is already in dictionary\n",
    "    if flag in flags :\n",
    "        # if so increment value by one\n",
    "        flags[flag] += 1\n",
    "    else :\n",
    "        # if not, initialise value with one\n",
    "        flags[flag] = 1\n",
    "\n",
    "samfile.close()\n",
    "\n",
    "# print flags ordered by value:\n",
    "for flag in sorted(flags) :\n",
    "    print(flag, flags[flag])"
   ]
  },
  {
   "cell_type": "code",
   "execution_count": 4,
   "metadata": {},
   "outputs": [
    {
     "name": "stdout",
     "output_type": "stream",
     "text": [
      "163\t367705\n",
      "83\t367705\n",
      "99\t367274\n",
      "147\t367274\n",
      "77\t157184\n",
      "141\t157184\n",
      "145\t29032\n",
      "97\t29032\n",
      "161\t28939\n",
      "81\t28939\n",
      "65\t9616\n",
      "129\t9616\n",
      "177\t9574\n",
      "113\t9574\n",
      "165\t2932\n",
      "89\t2932\n",
      "73\t2791\n",
      "133\t2791\n",
      "101\t2508\n",
      "153\t2508\n",
      "137\t2443\n",
      "69\t2443\n"
     ]
    }
   ],
   "source": [
    "# print flags ordered by occurrence to see pairs of flags belonging to the two mates:\n",
    "for flag in sorted(flags, key=flags.get, reverse=True) :\n",
    "    print(f'{flag}\\t{flags[flag]}')"
   ]
  }
 ],
 "metadata": {
  "kernelspec": {
   "display_name": "Python 3",
   "language": "python",
   "name": "python3"
  },
  "language_info": {
   "codemirror_mode": {
    "name": "ipython",
    "version": 3
   },
   "file_extension": ".py",
   "mimetype": "text/x-python",
   "name": "python",
   "nbconvert_exporter": "python",
   "pygments_lexer": "ipython3",
   "version": "3.6.9"
  }
 },
 "nbformat": 4,
 "nbformat_minor": 4
}
